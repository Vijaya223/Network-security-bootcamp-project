{
  "nbformat": 4,
  "nbformat_minor": 0,
  "metadata": {
    "colab": {
      "name": "Bootcamp project(String to hash code).ipynb",
      "provenance": []
    },
    "kernelspec": {
      "name": "python3",
      "display_name": "Python 3"
    },
    "language_info": {
      "name": "python"
    }
  },
  "cells": [
    {
      "cell_type": "code",
      "metadata": {
        "colab": {
          "base_uri": "https://localhost:8080/"
        },
        "id": "u9D-t5wPCc5f",
        "outputId": "ca560f88-312d-4e4a-dbd5-f126044bbd66"
      },
      "source": [
        "import hashlib\n",
        "def generate_hash(text):\n",
        "  hash_object = hashlib. md5(text. encode())\n",
        "  md5_hash = hash_object. hexdigest() \n",
        "  print(md5_hash)\n",
        "txt=input(\"Enter the text: \")\n",
        "generate_hash(txt)\n",
        "\n"
      ],
      "execution_count": null,
      "outputs": [
        {
          "output_type": "stream",
          "text": [
            "Enter the text: bootcamp\n",
            "3afcecf8d447a6289bdd4804286c9c86\n"
          ],
          "name": "stdout"
        }
      ]
    }
  ]
}